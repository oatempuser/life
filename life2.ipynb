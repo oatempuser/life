{
 "cells": [
  {
   "cell_type": "code",
   "execution_count": null,
   "metadata": {},
   "outputs": [],
   "source": [
    "import numpy as np\n",
    "import matplotlib.pyplot as plt\n",
    "from IPython.display import display, clear_output\n",
    "import matplotlib as mpl\n",
    "import time\n",
    "import threading\n",
    "import ipywidgets as widgets\n",
    "from random import randrange\n",
    "from random import choice\n",
    "\n",
    "space_dim = (10,20)\n",
    "energy_dim = 100"
   ]
  },
  {
   "cell_type": "code",
   "execution_count": null,
   "metadata": {},
   "outputs": [],
   "source": [
    "class Enemy:\n",
    "    def __init__(self, energy):\n",
    "        self.energy = energy\n",
    "    def __str__(self):\n",
    "        return str(self.energy)\n",
    "    #def set_position(self, position):\n",
    "     #   self.position = \n",
    "    \n",
    "    def get_energy(self):\n",
    "        return self.energy\n"
   ]
  },
  {
   "cell_type": "code",
   "execution_count": null,
   "metadata": {},
   "outputs": [],
   "source": []
  },
  {
   "cell_type": "code",
   "execution_count": null,
   "metadata": {},
   "outputs": [],
   "source": [
    "class Population:\n",
    "    def __init__(self, space_dim):\n",
    "        self.enemys = np.empty(space_dim, dtype = Enemy)\n",
    "        self.dim = len(space_dim)\n",
    "        \n",
    "        self.aval_space = np.transpose(np.where(self.enemys == None))\n",
    "        self.len_aval_space = len(self.aval_space)\n",
    "        self.count = 0\n",
    "    \n",
    "    def __str__(self):\n",
    "        return str(self.count)\n",
    "    \n",
    "    def new_random_enemy(self):\n",
    "        self.enemys[tuple(choice(self.aval_space))] = Enemy(randrange(energy_dim))\n",
    "        self.aval_space = np.transpose(np.where(self.enemys == None))\n",
    "        self.len_aval_space = len(self.aval_space)\n",
    "        self.count += 1\n",
    "        \n",
    "    def view_space(self):\n",
    "        #%matplotlib inline\n",
    "        cmap = mpl.colors.LinearSegmentedColormap.from_list('my_colormap',['white','green','red'], 64)\n",
    "        plt.figure(figsize=(25, 10))\n",
    "        plt.imshow(self.enemys, clim=(0.0, 30.0), cmap=cmap)\n",
    "        plt.colorbar()\n",
    "        plt.pause(0.5)\n",
    "        plt.show()\n",
    "        clear_output(wait = True)\n",
    "        \n",
    "        \n",
    "    "
   ]
  },
  {
   "cell_type": "code",
   "execution_count": null,
   "metadata": {},
   "outputs": [],
   "source": [
    "s = Population(space_dim)\n",
    "len(s.aval_space)\n",
    "s.enemys"
   ]
  },
  {
   "cell_type": "code",
   "execution_count": 1,
   "metadata": {},
   "outputs": [
    {
     "name": "stdout",
     "output_type": "stream",
     "text": [
      "Collecting seaborn\n",
      "  Using cached https://files.pythonhosted.org/packages/bc/45/5118a05b0d61173e6eb12bc5804f0fbb6f196adb0a20e0b16efc2b8e98be/seaborn-0.11.0-py3-none-any.whl\n",
      "Collecting numpy>=1.15 (from seaborn)\n",
      "  Using cached https://files.pythonhosted.org/packages/c5/63/a48648ebc57711348420670bb074998f79828291f68aebfff1642be212ec/numpy-1.19.4.zip\n",
      "Collecting pandas>=0.23 (from seaborn)\n",
      "  Using cached https://files.pythonhosted.org/packages/fb/e4/828bb9c2474ff6016e5ce96a78220d485436d5468c23068f4f6c2eb9cff8/pandas-1.1.5.tar.gz\n",
      "    Complete output from command python setup.py egg_info:\n",
      "    Traceback (most recent call last):\n",
      "      File \"<string>\", line 1, in <module>\n",
      "      File \"/tmp/pip-build-yiqxutt5/pandas/setup.py\", line 793, in <module>\n",
      "        setup_package()\n",
      "      File \"/tmp/pip-build-yiqxutt5/pandas/setup.py\", line 763, in setup_package\n",
      "        ext_modules=maybe_cythonize(extensions, compiler_directives=directives),\n",
      "      File \"/tmp/pip-build-yiqxutt5/pandas/setup.py\", line 520, in maybe_cythonize\n",
      "        raise RuntimeError(\"Cannot cythonize without Cython installed.\")\n",
      "    RuntimeError: Cannot cythonize without Cython installed.\n",
      "    \n",
      "    ----------------------------------------\n",
      "\u001b[31mCommand \"python setup.py egg_info\" failed with error code 1 in /tmp/pip-build-yiqxutt5/pandas/\u001b[0m\n",
      "Note: you may need to restart the kernel to use updated packages.\n"
     ]
    },
    {
     "ename": "ModuleNotFoundError",
     "evalue": "No module named 'seaborn'",
     "output_type": "error",
     "traceback": [
      "\u001b[0;31m---------------------------------------------------------------------------\u001b[0m",
      "\u001b[0;31mModuleNotFoundError\u001b[0m                       Traceback (most recent call last)",
      "\u001b[0;32m<ipython-input-1-4050ee8c05a5>\u001b[0m in \u001b[0;36m<module>\u001b[0;34m\u001b[0m\n\u001b[1;32m      1\u001b[0m \u001b[0mget_ipython\u001b[0m\u001b[0;34m(\u001b[0m\u001b[0;34m)\u001b[0m\u001b[0;34m.\u001b[0m\u001b[0mrun_line_magic\u001b[0m\u001b[0;34m(\u001b[0m\u001b[0;34m'pip'\u001b[0m\u001b[0;34m,\u001b[0m \u001b[0;34m'install seaborn'\u001b[0m\u001b[0;34m)\u001b[0m\u001b[0;34m\u001b[0m\u001b[0;34m\u001b[0m\u001b[0m\n\u001b[0;32m----> 2\u001b[0;31m \u001b[0;32mimport\u001b[0m \u001b[0mseaborn\u001b[0m \u001b[0;32mas\u001b[0m \u001b[0msns\u001b[0m\u001b[0;34m\u001b[0m\u001b[0;34m\u001b[0m\u001b[0m\n\u001b[0m\u001b[1;32m      3\u001b[0m \u001b[0mcm\u001b[0m \u001b[0;34m=\u001b[0m \u001b[0msns\u001b[0m\u001b[0;34m.\u001b[0m\u001b[0mlight_palette\u001b[0m\u001b[0;34m(\u001b[0m\u001b[0;34m\"green\"\u001b[0m\u001b[0;34m,\u001b[0m \u001b[0mas_cmap\u001b[0m\u001b[0;34m=\u001b[0m\u001b[0;32mTrue\u001b[0m\u001b[0;34m)\u001b[0m\u001b[0;34m\u001b[0m\u001b[0;34m\u001b[0m\u001b[0m\n\u001b[1;32m      4\u001b[0m \u001b[0;34m\u001b[0m\u001b[0m\n\u001b[1;32m      5\u001b[0m \u001b[0ms\u001b[0m \u001b[0;34m=\u001b[0m \u001b[0mdf\u001b[0m\u001b[0;34m.\u001b[0m\u001b[0mstyle\u001b[0m\u001b[0;34m.\u001b[0m\u001b[0mbackground_gradient\u001b[0m\u001b[0;34m(\u001b[0m\u001b[0mcmap\u001b[0m\u001b[0;34m=\u001b[0m\u001b[0mcm\u001b[0m\u001b[0;34m)\u001b[0m\u001b[0;34m\u001b[0m\u001b[0;34m\u001b[0m\u001b[0m\n",
      "\u001b[0;31mModuleNotFoundError\u001b[0m: No module named 'seaborn'"
     ]
    }
   ],
   "source": [
    "%pip install seaborn\n",
    "import seaborn as sns\n",
    "cm = sns.light_palette(\"green\", as_cmap=True)\n",
    "\n",
    "s = df.style.background_gradient(cmap=cm)\n",
    "s\n",
    "#df.style.background_gradient(cmap ='viridis').set_properties(**{'font-size': '14px'}) "
   ]
  },
  {
   "cell_type": "code",
   "execution_count": null,
   "metadata": {},
   "outputs": [],
   "source": [
    "import pandas as pd\n",
    "df = pd.DataFrame(data=s.enemys)\n",
    "df = df.replace([None], 0)\n",
    "df"
   ]
  },
  {
   "cell_type": "code",
   "execution_count": null,
   "metadata": {},
   "outputs": [],
   "source": [
    "s.new_random_enemy()\n",
    "s.new_random_enemy()\n",
    "s.new_random_enemy()\n",
    "s.new_random_enemy()\n",
    "s.new_random_enemy()\n",
    "s.new_random_enemy()\n",
    "len(s.aval_space)\n",
    "#s.enemys"
   ]
  },
  {
   "cell_type": "code",
   "execution_count": null,
   "metadata": {},
   "outputs": [],
   "source": [
    "df.plot.scatter(df[:,0], df[:,1]);\n",
    "#pd.plotting.scatter_matrix(df, alpha=0.2)"
   ]
  },
  {
   "cell_type": "code",
   "execution_count": null,
   "metadata": {},
   "outputs": [],
   "source": [
    "import sys\n",
    "sys.getsizeof(s.enemys)"
   ]
  },
  {
   "cell_type": "code",
   "execution_count": null,
   "metadata": {},
   "outputs": [],
   "source": []
  },
  {
   "cell_type": "code",
   "execution_count": null,
   "metadata": {},
   "outputs": [],
   "source": [
    "len(s.aval_space)"
   ]
  },
  {
   "cell_type": "code",
   "execution_count": null,
   "metadata": {},
   "outputs": [],
   "source": [
    "a = 4,5\n",
    "\n",
    "print(s.enemys[a])"
   ]
  },
  {
   "cell_type": "code",
   "execution_count": null,
   "metadata": {},
   "outputs": [],
   "source": [
    "print(s.enemys[14,31])"
   ]
  },
  {
   "cell_type": "code",
   "execution_count": null,
   "metadata": {},
   "outputs": [],
   "source": [
    "ss = np.transpose(np.where(s.enemys == None))"
   ]
  },
  {
   "cell_type": "code",
   "execution_count": null,
   "metadata": {},
   "outputs": [],
   "source": [
    "len(ss)"
   ]
  },
  {
   "cell_type": "code",
   "execution_count": null,
   "metadata": {},
   "outputs": [],
   "source": []
  }
 ],
 "metadata": {
  "kernelspec": {
   "display_name": "Python 3",
   "language": "python",
   "name": "python3"
  },
  "language_info": {
   "codemirror_mode": {
    "name": "ipython",
    "version": 3
   },
   "file_extension": ".py",
   "mimetype": "text/x-python",
   "name": "python",
   "nbconvert_exporter": "python",
   "pygments_lexer": "ipython3",
   "version": "3.6.9"
  }
 },
 "nbformat": 4,
 "nbformat_minor": 4
}
