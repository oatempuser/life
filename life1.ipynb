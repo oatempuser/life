{
 "cells": [
  {
   "cell_type": "code",
   "execution_count": 1,
   "metadata": {},
   "outputs": [],
   "source": [
    "import numpy as np\n",
    "import matplotlib.pyplot as plt\n",
    "from IPython.display import display, clear_output\n",
    "import matplotlib as mpl\n",
    "import time\n",
    "import threading\n",
    "import ipywidgets as widgets\n",
    "\n",
    "space_dim = [30,70]"
   ]
  },
  {
   "cell_type": "code",
   "execution_count": 2,
   "metadata": {},
   "outputs": [],
   "source": [
    "class Enemy(threading.Thread):\n",
    "    activity_delay = 1\n",
    "    born_count = 2\n",
    "    \n",
    "    def __new__(cls, energy, population):\n",
    "        if len(np.transpose(np.where(population.space == 0))) == 0: return None\n",
    "        else: return super().__new__(cls)\n",
    "    \n",
    "    def __init__(self, energy, population):\n",
    "        self.thread = threading.Thread.__init__(self, name=energy)\n",
    "        self.energy = energy\n",
    "        aval_space = np.transpose(np.where(population.space == 0))\n",
    "        self.position = aval_space[np.random.randint(len(aval_space))]\n",
    "        self.population = population\n",
    "        #print(self.position)\n",
    "        population.space[self.position[0], self.position[1]] = energy \n",
    "    \n",
    "    def run(self):\n",
    "        while (self.energy>0):\n",
    "            if (self.energy==30): self.population.new_enemy_life_on(20)\n",
    "            time.sleep(self.activity_delay)\n",
    "            self.energy -= 1\n",
    "    \n",
    "    def action(self):\n",
    "        return 4\n",
    "    \n"
   ]
  },
  {
   "cell_type": "code",
   "execution_count": 7,
   "metadata": {},
   "outputs": [],
   "source": [
    "class Population:\n",
    "    def __init__(self, energy, space_dim):\n",
    "        self.space = np.zeros(shape=space_dim, dtype=int)\n",
    "        self.enemys = []\n",
    "        self.aval_space = np.transpose(np.where(self.space == 0))\n",
    "        self.len_aval_space = len(self.aval_space)\n",
    "    \n",
    "    def life(self):\n",
    "        for i in self.enemys:\n",
    "            i.start()\n",
    "            \n",
    "    def del_enemy(self, enemy):\n",
    "        self.space[enemy.position[0],enemy.position[1]] = 0\n",
    "        self.enemys = np.delete(self.enemys, np.where(self.enemys == enemy))\n",
    "        self.aval_space = np.transpose(np.where(self.space == 0))\n",
    "        self.len_aval_space = len(self.aval_space)\n",
    "        print(enemy.position)\n",
    "        \n",
    "    def new_enemy(self, energy):\n",
    "        self.enemys = np.append(self.enemys, Enemy(energy, self))\n",
    "        self.aval_space = np.transpose(np.where(self.space == 0))\n",
    "        self.len_aval_space = len(self.aval_space)\n",
    "       \n",
    "    def new_enemy_life_on(self, energy):\n",
    "        self.enemys = np.append(self.enemys, Enemy(energy, self))\n",
    "      \n",
    "        self.enemys[len(self.enemys)-1].start()\n",
    "        self.aval_space = np.transpose(np.where(self.space == 0))\n",
    "        self.len_aval_space = len(self.aval_space)\n",
    "        \n",
    "    def view_space(self):\n",
    "        #%matplotlib inline\n",
    "        cmap = mpl.colors.LinearSegmentedColormap.from_list('my_colormap',['white','green','red'], 64)\n",
    "        plt.text(0,0,str(i))\n",
    "        plt.figure(figsize=(25, 10))\n",
    "        plt.imshow(self.space, clim=(0.0, 30.0), cmap=cmap)\n",
    "        plt.colorbar()\n",
    "        plt.pause(0.5)\n",
    "        plt.show()\n",
    "        clear_output(wait = True)"
   ]
  },
  {
   "cell_type": "code",
   "execution_count": 19,
   "metadata": {},
   "outputs": [],
   "source": [
    "p1 = Population(1, space_dim)\n",
    "\n",
    "\n",
    "for n in range(400):\n",
    "    p1.new_enemy(50)"
   ]
  },
  {
   "cell_type": "code",
   "execution_count": 34,
   "metadata": {},
   "outputs": [
    {
     "data": {
      "text/plain": [
       "407"
      ]
     },
     "execution_count": 34,
     "metadata": {},
     "output_type": "execute_result"
    }
   ],
   "source": [
    "len(p1.enemys)"
   ]
  },
  {
   "cell_type": "code",
   "execution_count": 32,
   "metadata": {},
   "outputs": [
    {
     "data": {
      "text/plain": [
       "(0, 0)"
      ]
     },
     "execution_count": 32,
     "metadata": {},
     "output_type": "execute_result"
    }
   ],
   "source": [
    "p1.enemys[0].energy, p1.enemys[1].energy"
   ]
  },
  {
   "cell_type": "code",
   "execution_count": 33,
   "metadata": {},
   "outputs": [
    {
     "data": {
      "text/plain": [
       "0"
      ]
     },
     "execution_count": 33,
     "metadata": {},
     "output_type": "execute_result"
    }
   ],
   "source": [
    "p1.enemys[2].energy#, p1.enemys[3].energy"
   ]
  },
  {
   "cell_type": "code",
   "execution_count": 21,
   "metadata": {},
   "outputs": [],
   "source": [
    "p1.life()"
   ]
  },
  {
   "cell_type": "code",
   "execution_count": null,
   "metadata": {},
   "outputs": [],
   "source": []
  },
  {
   "cell_type": "code",
   "execution_count": 30,
   "metadata": {},
   "outputs": [
    {
     "data": {
      "text/plain": [
       "(0, <_MainThread(MainThread, started 548230381584)>)"
      ]
     },
     "execution_count": 30,
     "metadata": {},
     "output_type": "execute_result"
    }
   ],
   "source": [
    "threading.active_count()-5, threading.currentThread()"
   ]
  },
  {
   "cell_type": "code",
   "execution_count": null,
   "metadata": {},
   "outputs": [],
   "source": [
    "len(p1.enemys)"
   ]
  },
  {
   "cell_type": "code",
   "execution_count": null,
   "metadata": {},
   "outputs": [],
   "source": [
    "for f in range(10):\n",
    "    plt.pause(0.5)\n",
    "    clear_output(wait = True)\n",
    "    print(p1.enemys[0].energy, p1.enemys[1].energy, p1.enemys[7].energy, p1.enemys[-1].energy)"
   ]
  },
  {
   "cell_type": "code",
   "execution_count": null,
   "metadata": {},
   "outputs": [],
   "source": [
    "for t in threading.enumerate():\n",
    "    print(t.name)\n",
    "    if t.is_alive(): \n",
    "        print('Still running') \n",
    "    else: \n",
    "        print('Completed') \n",
    "    if (t.name == '5'): t.stop()\n"
   ]
  },
  {
   "cell_type": "code",
   "execution_count": null,
   "metadata": {},
   "outputs": [],
   "source": []
  },
  {
   "cell_type": "code",
   "execution_count": null,
   "metadata": {},
   "outputs": [],
   "source": [
    "p1.del_enemy(p1.enemys[1])"
   ]
  },
  {
   "cell_type": "code",
   "execution_count": null,
   "metadata": {},
   "outputs": [],
   "source": [
    "p1.enemys[4].position"
   ]
  },
  {
   "cell_type": "code",
   "execution_count": null,
   "metadata": {},
   "outputs": [],
   "source": [
    " np.transpose(np.where(p1.space != 0))"
   ]
  },
  {
   "cell_type": "code",
   "execution_count": null,
   "metadata": {},
   "outputs": [],
   "source": []
  },
  {
   "cell_type": "code",
   "execution_count": 80,
   "metadata": {},
   "outputs": [
    {
     "data": {
      "image/png": "[encoded data removed]",
      "text/plain": [
       "<Figure size 432x288 with 1 Axes>"
      ]
     },
     "metadata": {
      "needs_background": "light"
     },
     "output_type": "display_data"
    },
    {
     "data": {
      "image/png": "[encoded data removed]",
      "text/plain": [
       "<Figure size 1800x720 with 2 Axes>"
      ]
     },
     "metadata": {
      "needs_background": "light"
     },
     "output_type": "display_data"
    }
   ],
   "source": [
    "p1.view_space()"
   ]
  },
  {
   "cell_type": "code",
   "execution_count": null,
   "metadata": {},
   "outputs": [],
   "source": []
  },
  {
   "cell_type": "code",
   "execution_count": null,
   "metadata": {},
   "outputs": [],
   "source": []
  },
  {
   "cell_type": "code",
   "execution_count": null,
   "metadata": {},
   "outputs": [],
   "source": []
  },
  {
   "cell_type": "code",
   "execution_count": null,
   "metadata": {},
   "outputs": [],
   "source": []
  },
  {
   "cell_type": "code",
   "execution_count": null,
   "metadata": {},
   "outputs": [],
   "source": []
  },
  {
   "cell_type": "code",
   "execution_count": null,
   "metadata": {},
   "outputs": [],
   "source": [
    "def set_n_Enemy(n):\n",
    "    for i in range(n):\n",
    "        enemys = np.append(enemys, Enemy(i, space))\n",
    "\n",
    "start_time = time.time()\n",
    "set_n_Enemy(100)       \n",
    "print(\"--- %s seconds ---\" % (time.time() - start_time))\n",
    "print(len(enemys))\n",
    "view_space()"
   ]
  },
  {
   "cell_type": "code",
   "execution_count": null,
   "metadata": {},
   "outputs": [],
   "source": [
    "def append_new_enemy():\n",
    "    i = len(np.transpose(np.where(space == 0)))\n",
    "    "
   ]
  },
  {
   "cell_type": "code",
   "execution_count": null,
   "metadata": {},
   "outputs": [],
   "source": [
    "len(np.transpose(np.nonzero(space)))"
   ]
  },
  {
   "cell_type": "code",
   "execution_count": null,
   "metadata": {},
   "outputs": [],
   "source": [
    "len(np.transpose(np.where(space == 0)))"
   ]
  },
  {
   "cell_type": "code",
   "execution_count": null,
   "metadata": {},
   "outputs": [],
   "source": []
  },
  {
   "cell_type": "code",
   "execution_count": null,
   "metadata": {},
   "outputs": [],
   "source": []
  },
  {
   "cell_type": "code",
   "execution_count": null,
   "metadata": {},
   "outputs": [],
   "source": []
  },
  {
   "cell_type": "code",
   "execution_count": null,
   "metadata": {},
   "outputs": [],
   "source": []
  },
  {
   "cell_type": "code",
   "execution_count": null,
   "metadata": {},
   "outputs": [],
   "source": []
  },
  {
   "cell_type": "code",
   "execution_count": null,
   "metadata": {},
   "outputs": [],
   "source": []
  }
 ],
 "metadata": {
  "kernelspec": {
   "display_name": "Python 3",
   "language": "python",
   "name": "python3"
  },
  "language_info": {
   "codemirror_mode": {
    "name": "ipython",
    "version": 3
   },
   "file_extension": ".py",
   "mimetype": "text/x-python",
   "name": "python",
   "nbconvert_exporter": "python",
   "pygments_lexer": "ipython3",
   "version": "3.6.9"
  }
 },
 "nbformat": 4,
 "nbformat_minor": 4
}
